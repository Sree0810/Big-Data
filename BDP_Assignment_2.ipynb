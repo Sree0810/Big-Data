{
  "cells": [
    {
      "cell_type": "markdown",
      "id": "ecf4106d",
      "metadata": {
        "id": "ecf4106d"
      },
      "source": [
        "## Assignment 2 - BDP\n",
        "### Sreejesh S Nair - 20318001"
      ]
    },
    {
      "cell_type": "code",
      "execution_count": null,
      "id": "c7d8cbe5",
      "metadata": {
        "id": "c7d8cbe5"
      },
      "outputs": [],
      "source": [
        "from sklearn.feature_extraction.text import TfidfVectorizer\n",
        "from sklearn.datasets import fetch_20newsgroups\n",
        "from sklearn.metrics.pairwise import cosine_similarity\n",
        "import numpy as np"
      ]
    },
    {
      "cell_type": "markdown",
      "id": "aa32d8be",
      "metadata": {
        "id": "aa32d8be"
      },
      "source": [
        "### Loading Dataset"
      ]
    },
    {
      "cell_type": "code",
      "execution_count": null,
      "id": "7301f142",
      "metadata": {
        "id": "7301f142"
      },
      "outputs": [],
      "source": [
        "newsgroups = fetch_20newsgroups(subset='all', remove=('headers', 'footers', 'quotes'))"
      ]
    },
    {
      "cell_type": "code",
      "execution_count": null,
      "id": "663bdda4",
      "metadata": {
        "id": "663bdda4"
      },
      "outputs": [],
      "source": [
        "documents = newsgroups.data\n",
        "categories = newsgroups.target"
      ]
    },
    {
      "cell_type": "code",
      "execution_count": null,
      "id": "520f6748",
      "metadata": {
        "id": "520f6748"
      },
      "outputs": [],
      "source": [
        "tfidf_vectorizer = TfidfVectorizer(stop_words='english')\n",
        "tfidf_matrix = tfidf_vectorizer.fit_transform(documents)"
      ]
    },
    {
      "cell_type": "code",
      "execution_count": null,
      "id": "7a016233",
      "metadata": {
        "id": "7a016233"
      },
      "outputs": [],
      "source": [
        "# Function to calculate cosine similarity\n",
        "def calculate_cosine_similarity(vector1, vector2):\n",
        "    return cosine_similarity(vector1.reshape(1, -1), vector2.reshape(1, -1))[0, 0]\n",
        "\n",
        "# Document similarity search function\n",
        "def document_similarity_search(input_document, top_n=5):\n",
        "    # Transform the input document to TF-IDF vector\n",
        "    input_vector = tfidf_vectorizer.transform([input_document])\n",
        "\n",
        "    # Calculate cosine similarity with all documents\n",
        "    similarities = [calculate_cosine_similarity(input_vector, tfidf_matrix[i]) for i in range(tfidf_matrix.shape[0])]\n",
        "\n",
        "    # Get indices of documents sorted by similarity\n",
        "    sorted_indices = np.argsort(similarities)[::-1]\n",
        "\n",
        "    # Return top N documents based on similarity\n",
        "    top_documents = [(documents[i], similarities[i]) for i in sorted_indices[:top_n]]\n",
        "\n",
        "    return top_documents\n",
        "\n"
      ]
    },
    {
      "cell_type": "code",
      "execution_count": null,
      "id": "e19dbf5e",
      "metadata": {
        "id": "e19dbf5e",
        "outputId": "58ebea71-3736-4c1d-cf3b-ada940aa1991"
      },
      "outputs": [
        {
          "name": "stdout",
          "output_type": "stream",
          "text": [
            "Input Document:\n",
            "Is it good enough\n",
            "\n",
            "Top 5 Similar Documents:\n",
            "1. Similarity: 1.0000\n",
            "very good.\n",
            "\n",
            "\n",
            "==================================================\n",
            "\n",
            "2. Similarity: 0.4869\n",
            "Good luck.\n",
            "\n",
            "\n",
            "==================================================\n",
            "\n",
            "3. Similarity: 0.4070\n",
            "You can't.  But good luck trying.\n",
            "==================================================\n",
            "\n",
            "4. Similarity: 0.3938\n",
            "\n",
            "\n",
            "Let's see... April 15th... less than 30 at bats.... and you claim that he \n",
            "hasn't done too much so far!\n",
            "\n",
            "Cut this guy some slack. Danny will produce this year. It's scary to think\n",
            "just how much he'll produce if he were to stay healthy all year.\n",
            "\n",
            "The Yanks have a lot going for them this year: good starting rotation, good\n",
            "bullpen, good defense and a good lineup. Also, I like Buck Showalter. Frank\n",
            "Howard on 1st is also a good move. Everything sounds good so far. \n",
            "\n",
            "If the Yanks stay healthy, they have a good chance at winning the pennant. This \n",
            "is the most fun I've had watching the Yanks since \"78!\n",
            "==================================================\n",
            "\n",
            "5. Similarity: 0.3079\n",
            "You a good case for rights to abortion.\n",
            "==================================================\n",
            "\n"
          ]
        }
      ],
      "source": [
        "# Example usage\n",
        "input_doc = \"Is it good enough\"\n",
        "\n",
        "similar_documents = document_similarity_search(input_doc, top_n=5)\n",
        "\n",
        "# Print results\n",
        "print(f\"Input Document:\\n{input_doc}\\n\")\n",
        "print(\"Top 5 Similar Documents:\")\n",
        "for i, (doc, similarity) in enumerate(similar_documents, 1):\n",
        "    print(f\"{i}. Similarity: {similarity:.4f}\\n{doc}\\n{'='*50}\\n\")\n"
      ]
    }
  ],
  "metadata": {
    "kernelspec": {
      "display_name": "Python 3 (ipykernel)",
      "language": "python",
      "name": "python3"
    },
    "language_info": {
      "codemirror_mode": {
        "name": "ipython",
        "version": 3
      },
      "file_extension": ".py",
      "mimetype": "text/x-python",
      "name": "python",
      "nbconvert_exporter": "python",
      "pygments_lexer": "ipython3",
      "version": "3.9.12"
    },
    "colab": {
      "provenance": []
    }
  },
  "nbformat": 4,
  "nbformat_minor": 5
}